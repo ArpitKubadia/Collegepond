{
 "cells": [
  {
   "cell_type": "code",
   "execution_count": 37,
   "metadata": {},
   "outputs": [],
   "source": [
    "import csv\n",
    "from urllib import parse\n",
    "import datetime\n",
    "import requests    \n",
    "import os\n",
    "import glob\n",
    "import xlrd"
   ]
  },
  {
   "cell_type": "code",
   "execution_count": 30,
   "metadata": {},
   "outputs": [
    {
     "name": "stdout",
     "output_type": "stream",
     "text": [
      "C:\\Users\\Arpit\\Desktop\\Collegepond\\notebooks\\..\\key.txt\n",
      "sBBqsGXiYgF0Db5OV5tAwzMO8UIH1hv9VfS-2b27IxptPU9lRaY3IyLuuvWtlq9Wn2pHZrSf1gT2PUujH1YaQA\n"
     ]
    }
   ],
   "source": [
    "key_path = os.path.join( os.getcwd(), '..', 'key.txt' )\n",
    "print(key_path)\n",
    "keyfile= open(key_path,'r')\n",
    "api_key=keyfile.read()\n",
    "print(api_key)"
   ]
  },
  {
   "cell_type": "code",
   "execution_count": 34,
   "metadata": {},
   "outputs": [
    {
     "name": "stdout",
     "output_type": "stream",
     "text": [
      "C:\\Users\\Arpit\\Desktop\\Collegepond\\notebooks\\..\\Courses\\\n"
     ]
    }
   ],
   "source": [
    "course_path=os.path.join(os.getcwd(),'..','Courses\\\\')\n",
    "print(course_path)"
   ]
  },
  {
   "cell_type": "code",
   "execution_count": 36,
   "metadata": {},
   "outputs": [
    {
     "name": "stdout",
     "output_type": "stream",
     "text": [
      "C:\\Users\\Arpit\\Desktop\\Collegepond\\notebooks\\..\\Courses\\Atmosphere Engineering.xlsx\n",
      "C:\\Users\\Arpit\\Desktop\\Collegepond\\notebooks\\..\\Courses\\Automobile Engineering.xlsx\n",
      "C:\\Users\\Arpit\\Desktop\\Collegepond\\notebooks\\..\\Courses\\Biological and Agricultural Engineering.xlsx\n",
      "C:\\Users\\Arpit\\Desktop\\Collegepond\\notebooks\\..\\Courses\\Biomedical Engineering.xlsx\n",
      "C:\\Users\\Arpit\\Desktop\\Collegepond\\notebooks\\..\\Courses\\Chemical Engineering.xlsx\n",
      "C:\\Users\\Arpit\\Desktop\\Collegepond\\notebooks\\..\\Courses\\Civil Engineering.xlsx\n",
      "C:\\Users\\Arpit\\Desktop\\Collegepond\\notebooks\\..\\Courses\\Construction Engineering and Management.xlsx\n",
      "C:\\Users\\Arpit\\Desktop\\Collegepond\\notebooks\\..\\Courses\\Electrical and Computer Engineering.xlsx\n",
      "C:\\Users\\Arpit\\Desktop\\Collegepond\\notebooks\\..\\Courses\\Engineering Management.xlsx\n",
      "C:\\Users\\Arpit\\Desktop\\Collegepond\\notebooks\\..\\Courses\\Environmental Engineering.xlsx\n",
      "C:\\Users\\Arpit\\Desktop\\Collegepond\\notebooks\\..\\Courses\\Financial Engineering.xlsx\n",
      "C:\\Users\\Arpit\\Desktop\\Collegepond\\notebooks\\..\\Courses\\Industrial Engineering Operations.xlsx\n",
      "C:\\Users\\Arpit\\Desktop\\Collegepond\\notebooks\\..\\Courses\\Material Science and Engineering.xlsx\n",
      "C:\\Users\\Arpit\\Desktop\\Collegepond\\notebooks\\..\\Courses\\Mechanical Engineering.xlsx\n",
      "C:\\Users\\Arpit\\Desktop\\Collegepond\\notebooks\\..\\Courses\\Metallurgical Engineering.xlsx\n",
      "C:\\Users\\Arpit\\Desktop\\Collegepond\\notebooks\\..\\Courses\\Metallurgical Science and Engineering.xlsx\n",
      "C:\\Users\\Arpit\\Desktop\\Collegepond\\notebooks\\..\\Courses\\Music Engineering.xlsx\n",
      "C:\\Users\\Arpit\\Desktop\\Collegepond\\notebooks\\..\\Courses\\Nano Engineering.xlsx\n",
      "C:\\Users\\Arpit\\Desktop\\Collegepond\\notebooks\\..\\Courses\\Petroleum Engineering.xlsx\n",
      "C:\\Users\\Arpit\\Desktop\\Collegepond\\notebooks\\..\\Courses\\Plastics Engineering.xlsx\n",
      "C:\\Users\\Arpit\\Desktop\\Collegepond\\notebooks\\..\\Courses\\Software Engineering.xlsx\n",
      "C:\\Users\\Arpit\\Desktop\\Collegepond\\notebooks\\..\\Courses\\Textile Engineering.xlsx\n",
      "C:\\Users\\Arpit\\Desktop\\Collegepond\\notebooks\\..\\Courses\\Transportation Engineering.xlsx\n"
     ]
    }
   ],
   "source": [
    "for csv_file in glob.glob(course_path+\"*Engineering*.xlsx\"):\n",
    "    print(csv_file)\n",
    "    "
   ]
  },
  {
   "cell_type": "code",
   "execution_count": null,
   "metadata": {},
   "outputs": [],
   "source": []
  }
 ],
 "metadata": {
  "kernelspec": {
   "display_name": "Python 3",
   "language": "python",
   "name": "python3"
  },
  "language_info": {
   "codemirror_mode": {
    "name": "ipython",
    "version": 3
   },
   "file_extension": ".py",
   "mimetype": "text/x-python",
   "name": "python",
   "nbconvert_exporter": "python",
   "pygments_lexer": "ipython3",
   "version": "3.6.5"
  }
 },
 "nbformat": 4,
 "nbformat_minor": 2
}
